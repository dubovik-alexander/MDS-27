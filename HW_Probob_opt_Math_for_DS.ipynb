{
 "cells": [
  {
   "cell_type": "markdown",
   "metadata": {
    "id": "_kX74ytuOfgy"
   },
   "source": [
    "# Домашнее задание \"Случайные величины и вероятности\"."
   ]
  },
  {
   "cell_type": "markdown",
   "metadata": {
    "id": "t69IZulqTZMz"
   },
   "source": [
    "## Уровень 0:\n"
   ]
  },
  {
   "cell_type": "markdown",
   "metadata": {
    "id": "9JUikPzroAL8"
   },
   "source": [
    "### Задание 1"
   ]
  },
  {
   "cell_type": "markdown",
   "metadata": {
    "id": "-iPjA-eBHwGP"
   },
   "source": [
    "В магазин привезли устройства с 3-х разных предприятий. \n",
    "\n",
    "Соотношение устройств следующее: 20% - продукция первого предприятия, 30% - продукция второго предприятия, 50% - продукция третьего предприятия; далее, 10% продукции первого предприятия высшего сорта, на втором предприятии - 5% и на третьем - 20% продукции высшего сорта. \n",
    "\n",
    "Найти вероятность того, что случайно купленная новая продукция окажется высшего сорта."
   ]
  },
  {
   "cell_type": "code",
   "execution_count": 1,
   "metadata": {},
   "outputs": [],
   "source": [
    "import numpy as np"
   ]
  },
  {
   "cell_type": "markdown",
   "metadata": {},
   "source": [
    "Решение с сипользованием формулы Бейса"
   ]
  },
  {
   "cell_type": "code",
   "execution_count": 2,
   "metadata": {
    "id": "RZ4QTueWHxyl"
   },
   "outputs": [
    {
     "data": {
      "text/plain": [
       "0.135"
      ]
     },
     "execution_count": 2,
     "metadata": {},
     "output_type": "execute_result"
    }
   ],
   "source": [
    "# 1. Вариант в лоб (используя формулу Бейса)\n",
    "\n",
    "Pa1 = 0.2\n",
    "Pa2 = 0.3\n",
    "Pa3 = 0.5\n",
    "\n",
    "Pba1 = 0.1\n",
    "Pba2 = 0.05\n",
    "Pba3 = 0.2\n",
    "\n",
    "PB = Pa1*Pba1 + Pa2*Pba2 + Pa3*Pba3\n",
    "PB\n",
    "\n"
   ]
  },
  {
   "cell_type": "code",
   "execution_count": 3,
   "metadata": {},
   "outputs": [
    {
     "data": {
      "text/plain": [
       "0.135"
      ]
     },
     "execution_count": 3,
     "metadata": {},
     "output_type": "execute_result"
    }
   ],
   "source": [
    "# 2. Вариант используя списки и numpy. Если в условие добавиться еще один поставщик, будет проще решить чем в лоб\n",
    "\n",
    "list1 = [0.2, 0.3, 0.5]\n",
    "list2 = [0.1, 0.05, 0.2]\n",
    "\n",
    "sum(np.array(list1)*np.array(list2))"
   ]
  },
  {
   "cell_type": "markdown",
   "metadata": {
    "id": "6Ff11QC3H8mR"
   },
   "source": [
    "### Задание 2\n"
   ]
  },
  {
   "cell_type": "markdown",
   "metadata": {
    "id": "ya8BlSO5nQ9a"
   },
   "source": [
    "Пусть брошены 3 уравновешенные монеты.\n",
    "\n",
    "Рассмотрим 3 события:\n",
    "\n",
    "A1 - монеты 1 и 2 упали одной и той же стороной;\n",
    "\n",
    "A2 - монеты 2 и 3 упали одной и той же стороной;\n",
    "\n",
    "A3 - монеты 1 и 3 упали одной и той же стороной.\n",
    "\n",
    "Покажите, почему эти 3 события (A1, A2, A3) являются попарно независимыми, но не являются независимыми в совокупности."
   ]
  },
  {
   "cell_type": "markdown",
   "metadata": {},
   "source": [
    "Любые два события из этого набора независимы. \n",
    "Все же три в совокупности зависимы, ибо зная, например, что события A1, A2 произошли, \n",
    "мы знаем точно, что A3 также произошло."
   ]
  },
  {
   "cell_type": "markdown",
   "metadata": {
    "id": "qZxS_tEVTapE"
   },
   "source": [
    "## Уровень 1:"
   ]
  },
  {
   "cell_type": "markdown",
   "metadata": {
    "id": "gUB5Tx31oDZB"
   },
   "source": [
    "### Задание 3\n"
   ]
  },
  {
   "cell_type": "markdown",
   "metadata": {
    "id": "Jh-pEPj-TcDQ"
   },
   "source": [
    "Изучите 3 распределения из библиотеки scipy: [Нормальное](https://docs.scipy.org/doc/scipy/reference/generated/scipy.stats.norm.html), [Экспоненциальное](https://docs.scipy.org/doc/scipy/reference/generated/scipy.stats.expon.html), [Стьюдента](https://docs.scipy.org/doc/scipy/reference/generated/scipy.stats.t.html). Используя функцию плотности распредления (`pdf`), постройте пять графиков плотностей для каждого распределения при разных параметрах. Запишите ваши наблюдения: как и на что влияют параметры у каждого распределения. \n",
    "\n",
    "Дополнительная информация [тут](https://pythonguides.com/scipy-stats/).\n",
    "\n",
    "<b>pdf</b> -функция плотности вероятности (probability density function)"
   ]
  },
  {
   "cell_type": "code",
   "execution_count": 41,
   "metadata": {
    "id": "uco5UzhWoHAP"
   },
   "outputs": [
    {
     "name": "stderr",
     "output_type": "stream",
     "text": [
      "C:\\Users\\alexander.dubovik\\Anaconda3\\lib\\site-packages\\seaborn\\_decorators.py:36: FutureWarning: Pass the following variables as keyword args: x, y. From version 0.12, the only valid positional argument will be `data`, and passing other arguments without an explicit keyword will result in an error or misinterpretation.\n",
      "  warnings.warn(\n"
     ]
    },
    {
     "data": {
      "text/plain": [
       "Text(0, 0.5, 'Probability Density')"
      ]
     },
     "execution_count": 41,
     "metadata": {},
     "output_type": "execute_result"
    },
    {
     "data": {
      "image/png": "[encoded data removed]",
      "text/plain": [
       "<Figure size 432x288 with 1 Axes>"
      ]
     },
     "metadata": {},
     "output_type": "display_data"
    }
   ],
   "source": [
    "# Импортируем библиотеки\n",
    "from scipy.stats import norm\n",
    "import numpy as np\n",
    "import matplotlib.pyplot as plt\n",
    "import seaborn as sb\n",
    " \n",
    "# Creating the distribution\n",
    "data = np.arange(1,10,0.01)\n",
    "\n",
    "# Для смещения и/или масштабирования распределения используем параметры loc и scale.\n",
    "\n",
    "pdf = norm.pdf(data , loc = 5.3 , scale = 1 )\n",
    " \n",
    "#Строим графики\n",
    " \n",
    "sb.set_style(\"whitegrid\")\n",
    "sb.lineplot(data, pdf, color = 'green')\n",
    "plt.xlabel('Heights')\n",
    "plt.ylabel('Probability Density')"
   ]
  },
  {
   "cell_type": "code",
   "execution_count": 48,
   "metadata": {},
   "outputs": [
    {
     "name": "stderr",
     "output_type": "stream",
     "text": [
      "C:\\Users\\alexander.dubovik\\Anaconda3\\lib\\site-packages\\seaborn\\_decorators.py:36: FutureWarning: Pass the following variables as keyword args: x, y. From version 0.12, the only valid positional argument will be `data`, and passing other arguments without an explicit keyword will result in an error or misinterpretation.\n",
      "  warnings.warn(\n"
     ]
    },
    {
     "data": {
      "text/plain": [
       "Text(0, 0.5, 'Probability Density')"
      ]
     },
     "execution_count": 48,
     "metadata": {},
     "output_type": "execute_result"
    },
    {
     "data": {
      "image/png": "[encoded data removed]",
      "text/plain": [
       "<Figure size 432x288 with 1 Axes>"
      ]
     },
     "metadata": {},
     "output_type": "display_data"
    }
   ],
   "source": [
    "pdf = norm.pdf(data , loc = 5.3 , scale = 10 )\n",
    " \n",
    "#Строим графики\n",
    " \n",
    "sb.set_style(\"whitegrid\")\n",
    "sb.lineplot(data, pdf , color = 'red')\n",
    "plt.xlabel('Heights')\n",
    "plt.ylabel('Probability Density')"
   ]
  },
  {
   "cell_type": "code",
   "execution_count": 52,
   "metadata": {},
   "outputs": [
    {
     "name": "stderr",
     "output_type": "stream",
     "text": [
      "C:\\Users\\alexander.dubovik\\Anaconda3\\lib\\site-packages\\seaborn\\_decorators.py:36: FutureWarning: Pass the following variables as keyword args: x, y. From version 0.12, the only valid positional argument will be `data`, and passing other arguments without an explicit keyword will result in an error or misinterpretation.\n",
      "  warnings.warn(\n"
     ]
    },
    {
     "data": {
      "text/plain": [
       "Text(0, 0.5, 'Probability Density')"
      ]
     },
     "execution_count": 52,
     "metadata": {},
     "output_type": "execute_result"
    },
    {
     "data": {
      "image/png": "[encoded data removed]",
      "text/plain": [
       "<Figure size 432x288 with 1 Axes>"
      ]
     },
     "metadata": {},
     "output_type": "display_data"
    }
   ],
   "source": [
    "pdf = norm.pdf(data , loc = 10.3 , scale = 1 )\n",
    " \n",
    "#Строим графики\n",
    " \n",
    "sb.set_style(\"whitegrid\")\n",
    "sb.lineplot(data, pdf , color = 'red')\n",
    "plt.xlabel('Heights')\n",
    "plt.ylabel('Probability Density')"
   ]
  },
  {
   "cell_type": "code",
   "execution_count": 43,
   "metadata": {},
   "outputs": [
    {
     "name": "stderr",
     "output_type": "stream",
     "text": [
      "C:\\Users\\alexander.dubovik\\Anaconda3\\lib\\site-packages\\seaborn\\_decorators.py:36: FutureWarning: Pass the following variables as keyword args: x, y. From version 0.12, the only valid positional argument will be `data`, and passing other arguments without an explicit keyword will result in an error or misinterpretation.\n",
      "  warnings.warn(\n"
     ]
    },
    {
     "data": {
      "text/plain": [
       "Text(0, 0.5, 'Probability Density')"
      ]
     },
     "execution_count": 43,
     "metadata": {},
     "output_type": "execute_result"
    },
    {
     "data": {
      "image/png": "[encoded data removed]",
      "text/plain": [
       "<Figure size 432x288 with 1 Axes>"
      ]
     },
     "metadata": {},
     "output_type": "display_data"
    }
   ],
   "source": [
    "pdf = norm.pdf(data , loc = 1.3 , scale = 1 )\n",
    " \n",
    "#Строим графики\n",
    " \n",
    "sb.set_style(\"whitegrid\")\n",
    "sb.lineplot(data, pdf , color = 'red')\n",
    "plt.xlabel('Heights')\n",
    "plt.ylabel('Probability Density')"
   ]
  },
  {
   "cell_type": "code",
   "execution_count": 54,
   "metadata": {},
   "outputs": [
    {
     "name": "stderr",
     "output_type": "stream",
     "text": [
      "C:\\Users\\alexander.dubovik\\Anaconda3\\lib\\site-packages\\seaborn\\_decorators.py:36: FutureWarning: Pass the following variables as keyword args: x, y. From version 0.12, the only valid positional argument will be `data`, and passing other arguments without an explicit keyword will result in an error or misinterpretation.\n",
      "  warnings.warn(\n"
     ]
    },
    {
     "data": {
      "text/plain": [
       "Text(0, 0.5, 'Probability Density')"
      ]
     },
     "execution_count": 54,
     "metadata": {},
     "output_type": "execute_result"
    },
    {
     "data": {
      "image/png": "[encoded data removed]",
      "text/plain": [
       "<Figure size 432x288 with 1 Axes>"
      ]
     },
     "metadata": {},
     "output_type": "display_data"
    }
   ],
   "source": [
    "pdf = norm.pdf(data , loc = 1.3 , scale = 5 )\n",
    " \n",
    "#Строим графики\n",
    " \n",
    "sb.set_style(\"whitegrid\")\n",
    "sb.lineplot(data, pdf , color = 'red')\n",
    "plt.xlabel('Heights')\n",
    "plt.ylabel('Probability Density')"
   ]
  },
  {
   "cell_type": "markdown",
   "metadata": {},
   "source": [
    "___"
   ]
  },
  {
   "cell_type": "markdown",
   "metadata": {},
   "source": [
    "### Экспоненциальное распределение"
   ]
  },
  {
   "cell_type": "code",
   "execution_count": 1,
   "metadata": {},
   "outputs": [
    {
     "data": {
      "text/plain": [
       "(array([1.64660205e-02, 7.13661846e-03, 3.05608420e-03, 1.23739756e-03,\n",
       "        5.15102704e-04, 1.84170799e-04, 1.09351412e-04, 4.60426998e-05,\n",
       "        1.43883437e-05, 1.15106749e-05]),\n",
       " array([5.59420183e-03, 3.47559457e+01, 6.95062972e+01, 1.04256649e+02,\n",
       "        1.39007000e+02, 1.73757352e+02, 2.08507703e+02, 2.43258055e+02,\n",
       "        2.78008406e+02, 3.12758758e+02, 3.47509109e+02]),\n",
       " <BarContainer object of 10 artists>)"
      ]
     },
     "execution_count": 1,
     "metadata": {},
     "output_type": "execute_result"
    },
    {
     "data": {
      "image/png": "[encoded data removed]",
      "text/plain": [
       "<Figure size 432x288 with 1 Axes>"
      ]
     },
     "metadata": {
      "needs_background": "light"
     },
     "output_type": "display_data"
    }
   ],
   "source": [
    "from scipy. stats import expon\n",
    "import matplotlib.pyplot as plt\n",
    "\n",
    "# генерируем экспоненциальное распределение с размером выборки 10000\n",
    "x = expon.rvs(scale= 40 , size= 10000 )\n",
    "\n",
    "#Строим графики\n",
    "plt.hist (x, density= True , edgecolor='black')"
   ]
  },
  {
   "cell_type": "code",
   "execution_count": 8,
   "metadata": {},
   "outputs": [
    {
     "data": {
      "text/plain": [
       "(array([1.45678012e-02, 4.47140934e-03, 1.36369580e-03, 4.45459953e-04,\n",
       "        1.15567441e-04, 3.15183929e-05, 1.26073572e-05, 2.10122619e-06,\n",
       "        0.00000000e+00, 2.10122619e-06]),\n",
       " array([3.34961060e-03, 4.75946086e+01, 9.51858677e+01, 1.42777127e+02,\n",
       "        1.90368386e+02, 2.37959645e+02, 2.85550904e+02, 3.33142163e+02,\n",
       "        3.80733422e+02, 4.28324681e+02, 4.75915940e+02]),\n",
       " <BarContainer object of 10 artists>)"
      ]
     },
     "execution_count": 8,
     "metadata": {},
     "output_type": "execute_result"
    },
    {
     "data": {
      "image/png": "[encoded data removed]",
      "text/plain": [
       "<Figure size 432x288 with 1 Axes>"
      ]
     },
     "metadata": {
      "needs_background": "light"
     },
     "output_type": "display_data"
    }
   ],
   "source": [
    "# генерируем экспоненциальное распределение с размером выборки 10000\n",
    "x = expon.rvs(scale= 40 , size= 10000 )\n",
    "\n",
    "#Строим графики\n",
    "plt.hist (x, density= True , edgecolor='black')"
   ]
  }
 ],
 "metadata": {
  "colab": {
   "collapsed_sections": [],
   "name": "HW_8_upd",
   "provenance": []
  },
  "kernelspec": {
   "display_name": "Python 3 (ipykernel)",
   "language": "python",
   "name": "python3"
  },
  "language_info": {
   "codemirror_mode": {
    "name": "ipython",
    "version": 3
   },
   "file_extension": ".py",
   "mimetype": "text/x-python",
   "name": "python",
   "nbconvert_exporter": "python",
   "pygments_lexer": "ipython3",
   "version": "3.9.12"
  }
 },
 "nbformat": 4,
 "nbformat_minor": 4
}
